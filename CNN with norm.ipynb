{
 "cells": [
  {
   "cell_type": "markdown",
   "id": "pointed-charger",
   "metadata": {},
   "source": [
    "### Creating CNN model"
   ]
  },
  {
   "cell_type": "code",
   "execution_count": 1,
   "id": "educational-tsunami",
   "metadata": {},
   "outputs": [],
   "source": [
    "import numpy as np\n",
    "import tensorflow as tf\n",
    "from tensorflow import keras as keras\n",
    "import matplotlib.pyplot as plt\n",
    "import os\n",
    "import cv2 as cv"
   ]
  },
  {
   "cell_type": "code",
   "execution_count": 2,
   "id": "neural-utilization",
   "metadata": {},
   "outputs": [],
   "source": [
    "from sklearn.model_selection import train_test_split\n",
    "\n",
    "rice_data=np.load('./rice_dataset.npy')\n",
    "labels=np.load('./labels.npy')\n",
    "x_train, x_test, y_train, y_test=train_test_split(rice_data,labels,train_size=0.8)\n",
    "\n",
    "def accuracy(model):\n",
    "    pred=model.predict(x_test)\n",
    "    y_hat=np.argmax(pred,axis=1)\n",
    "    y=np.argmax(y_test,axis=1)\n",
    "    error=1-np.sum(np.not_equal(y_hat,y))/len(y_hat)\n",
    "    return error"
   ]
  },
  {
   "cell_type": "code",
   "execution_count": 3,
   "id": "ideal-trust",
   "metadata": {},
   "outputs": [],
   "source": [
    "inp=keras.Input(shape=(200,200,3))\n",
    "conv1=keras.layers.Conv2D(16,(3,3),(1,1),'same')\n",
    "x=conv1(inp)\n",
    "batchNorm1=keras.layers.BatchNormalization(momentum=0.7)\n",
    "x=batchNorm1(x)\n",
    "act1=keras.layers.Activation('relu')\n",
    "x=act1(x)\n",
    "maxPool1=keras.layers.MaxPool2D(pool_size=(2,2),strides=(2,2),padding='same')\n",
    "x=maxPool1(x)\n",
    "\n",
    "conv2=keras.layers.Conv2D(32,(3,3),(1,1),'same')\n",
    "x=conv2(x)\n",
    "batchNorm2=keras.layers.BatchNormalization(momentum=0.7)\n",
    "x=batchNorm2(x)\n",
    "act2=keras.layers.Activation('relu')\n",
    "x=act2(x)\n",
    "maxPool2=keras.layers.MaxPool2D(pool_size=(2,2),strides=(2,2),padding='same')\n",
    "x=maxPool2(x)\n",
    "\n",
    "flatten=keras.layers.Flatten()\n",
    "x=flatten(x)\n",
    "\n",
    "dense=keras.layers.Dense(300,activation='relu')\n",
    "x=dense(x)\n",
    "final=keras.layers.Dense(3,activation='softmax')\n",
    "out=final(x)\n",
    "model=keras.Model(inp,out)"
   ]
  },
  {
   "cell_type": "code",
   "execution_count": 4,
   "id": "improving-checkout",
   "metadata": {},
   "outputs": [],
   "source": [
    "model.compile(optimizer='adam',loss='categorical_crossentropy',metrics=['categorical_accuracy'])"
   ]
  },
  {
   "cell_type": "code",
   "execution_count": 5,
   "id": "driving-sharing",
   "metadata": {},
   "outputs": [
    {
     "name": "stdout",
     "output_type": "stream",
     "text": [
      "Epoch 1/6\n",
      "23/23 [==============================] - 15s 378ms/step - loss: 24.3913 - categorical_accuracy: 0.4074 - val_loss: 2.6574 - val_categorical_accuracy: 0.6937\n",
      "Epoch 2/6\n",
      "23/23 [==============================] - 4s 167ms/step - loss: 3.7303 - categorical_accuracy: 0.6763 - val_loss: 2.4197 - val_categorical_accuracy: 0.8018\n",
      "Epoch 3/6\n",
      "23/23 [==============================] - 4s 178ms/step - loss: 2.9800 - categorical_accuracy: 0.7497 - val_loss: 1.0088 - val_categorical_accuracy: 0.8559\n",
      "Epoch 4/6\n",
      "23/23 [==============================] - 4s 175ms/step - loss: 3.8781 - categorical_accuracy: 0.7554 - val_loss: 0.3744 - val_categorical_accuracy: 0.9099\n",
      "Epoch 5/6\n",
      "23/23 [==============================] - 4s 180ms/step - loss: 1.1348 - categorical_accuracy: 0.8686 - val_loss: 0.2941 - val_categorical_accuracy: 0.9279\n",
      "Epoch 6/6\n",
      "23/23 [==============================] - 4s 174ms/step - loss: 0.3053 - categorical_accuracy: 0.9497 - val_loss: 0.0064 - val_categorical_accuracy: 1.0000\n"
     ]
    }
   ],
   "source": [
    "with tf.device('/device:GPU:0'):\n",
    "    model.fit(rice_data,labels, validation_data=(x_test,y_test),epochs=6,batch_size=24)"
   ]
  },
  {
   "cell_type": "code",
   "execution_count": 6,
   "id": "utility-clone",
   "metadata": {},
   "outputs": [],
   "source": [
    "model.save_weights('./weights.h5',save_format='H5')\n",
    "string=model.to_json()\n",
    "with open('./model_config.json','w') as file:\n",
    "    file.write(string)\n",
    "file.close()"
   ]
  },
  {
   "cell_type": "markdown",
   "id": "amino-cylinder",
   "metadata": {},
   "source": [
    "###### Testing model"
   ]
  },
  {
   "cell_type": "code",
   "execution_count": 7,
   "id": "greek-hamilton",
   "metadata": {},
   "outputs": [],
   "source": [
    "model=keras.models.load_model('./CNN_model.h5')"
   ]
  },
  {
   "cell_type": "code",
   "execution_count": 8,
   "id": "present-polymer",
   "metadata": {
    "scrolled": false
   },
   "outputs": [
    {
     "name": "stdout",
     "output_type": "stream",
     "text": [
      "Model: \"sequential\"\n",
      "_________________________________________________________________\n",
      "Layer (type)                 Output Shape              Param #   \n",
      "=================================================================\n",
      "conv2d (Conv2D)              (None, 200, 200, 16)      448       \n",
      "_________________________________________________________________\n",
      "batch_normalization (BatchNo (None, 200, 200, 16)      64        \n",
      "_________________________________________________________________\n",
      "activation (Activation)      (None, 200, 200, 16)      0         \n",
      "_________________________________________________________________\n",
      "max_pooling2d (MaxPooling2D) (None, 100, 100, 16)      0         \n",
      "_________________________________________________________________\n",
      "conv2d_1 (Conv2D)            (None, 100, 100, 32)      4640      \n",
      "_________________________________________________________________\n",
      "batch_normalization_1 (Batch (None, 100, 100, 32)      128       \n",
      "_________________________________________________________________\n",
      "activation_1 (Activation)    (None, 100, 100, 32)      0         \n",
      "_________________________________________________________________\n",
      "max_pooling2d_1 (MaxPooling2 (None, 50, 50, 32)        0         \n",
      "_________________________________________________________________\n",
      "conv2d_2 (Conv2D)            (None, 50, 50, 64)        18496     \n",
      "_________________________________________________________________\n",
      "batch_normalization_2 (Batch (None, 50, 50, 64)        256       \n",
      "_________________________________________________________________\n",
      "activation_2 (Activation)    (None, 50, 50, 64)        0         \n",
      "_________________________________________________________________\n",
      "max_pooling2d_2 (MaxPooling2 (None, 25, 25, 64)        0         \n",
      "_________________________________________________________________\n",
      "flatten (Flatten)            (None, 40000)             0         \n",
      "_________________________________________________________________\n",
      "dense (Dense)                (None, 1000)              40001000  \n",
      "_________________________________________________________________\n",
      "dense_1 (Dense)              (None, 3)                 3003      \n",
      "=================================================================\n",
      "Total params: 40,028,035\n",
      "Trainable params: 40,027,811\n",
      "Non-trainable params: 224\n",
      "_________________________________________________________________\n"
     ]
    }
   ],
   "source": [
    "model.summary()"
   ]
  },
  {
   "cell_type": "markdown",
   "id": "fitted-bhutan",
   "metadata": {},
   "source": [
    "### Testing Functions"
   ]
  },
  {
   "cell_type": "code",
   "execution_count": 9,
   "id": "invisible-burden",
   "metadata": {},
   "outputs": [],
   "source": [
    "def inp():\n",
    "    global label\n",
    "    loc='./rice/'\n",
    "    label=os.listdir(loc)\n",
    "    n=int(input(f\"Enter index with respect to {label}\\n\"))\n",
    "    req_resol=(200,200)\n",
    "    items=os.listdir(loc+'/'+label[n])\n",
    "    rand=np.random.randint(len(items))\n",
    "    \n",
    "    img=cv.imread(loc+'/'+label[n]+'/'+items[rand])\n",
    "    img=cv.resize(img,req_resol,interpolation=cv.INTER_AREA)/255\n",
    "    return img"
   ]
  },
  {
   "cell_type": "code",
   "execution_count": 10,
   "id": "excellent-eating",
   "metadata": {},
   "outputs": [],
   "source": [
    "def predict():\n",
    "    image=inp()\n",
    "    y_hat=model.predict(image.reshape((1,200,200,3)))\n",
    "    ind=np.argmax(y_hat)\n",
    "    print(label[ind])"
   ]
  },
  {
   "cell_type": "markdown",
   "id": "impressive-cigarette",
   "metadata": {},
   "source": [
    "### Results"
   ]
  },
  {
   "cell_type": "code",
   "execution_count": 11,
   "id": "administrative-selection",
   "metadata": {},
   "outputs": [
    {
     "name": "stdout",
     "output_type": "stream",
     "text": [
      "Enter index with respect to ['Bacterial leaf blight', 'Brown spot', 'Leaf smut']\n",
      "0\n",
      "Bacterial leaf blight\n",
      "Enter index with respect to ['Bacterial leaf blight', 'Brown spot', 'Leaf smut']\n",
      "1\n",
      "Brown spot\n",
      "Enter index with respect to ['Bacterial leaf blight', 'Brown spot', 'Leaf smut']\n",
      "1\n",
      "Brown spot\n",
      "Enter index with respect to ['Bacterial leaf blight', 'Brown spot', 'Leaf smut']\n",
      "1\n",
      "Brown spot\n",
      "Enter index with respect to ['Bacterial leaf blight', 'Brown spot', 'Leaf smut']\n",
      "2\n",
      "Leaf smut\n",
      "Enter index with respect to ['Bacterial leaf blight', 'Brown spot', 'Leaf smut']\n",
      "\n"
     ]
    }
   ],
   "source": [
    "while(True):\n",
    "    try:\n",
    "        predict()\n",
    "    except:\n",
    "        break"
   ]
  },
  {
   "cell_type": "code",
   "execution_count": null,
   "id": "large-utility",
   "metadata": {},
   "outputs": [],
   "source": []
  }
 ],
 "metadata": {
  "kernelspec": {
   "display_name": "Python 3",
   "language": "python",
   "name": "python3"
  },
  "language_info": {
   "codemirror_mode": {
    "name": "ipython",
    "version": 3
   },
   "file_extension": ".py",
   "mimetype": "text/x-python",
   "name": "python",
   "nbconvert_exporter": "python",
   "pygments_lexer": "ipython3",
   "version": "3.7.9"
  }
 },
 "nbformat": 4,
 "nbformat_minor": 5
}
